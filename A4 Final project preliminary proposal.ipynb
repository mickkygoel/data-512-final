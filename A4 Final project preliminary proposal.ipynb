{
 "cells": [
  {
   "cell_type": "markdown",
   "metadata": {},
   "source": [
    "# A4: Final project preliminary proposal\n",
    "## Mayank Goel\n",
    "***November 2, 2020***"
   ]
  },
  {
   "cell_type": "markdown",
   "metadata": {},
   "source": [
    "### Motivation and problem statement"
   ]
  },
  {
   "cell_type": "markdown",
   "metadata": {},
   "source": [
    "It would not be wrong to say that technology advancement is the leading factor for growth and development in the 21st century. Countries who lead in technical innovation are growing the fastest and people working within the tech industry are generally enjoying higher than average pay. Therefore, I wanted to understand the demographics of the building blocks of this technology industry, i.e. the developers. Analyzing the demographics of the developers around the world would help me draw conclusions about overall diversity and inclusion within this booming sector. For example, is technology advancement reaching every corner of the world, or is it clustered around a few pockets of the world? Is technology accessible and reachable to all genders and all races equally or does certain sections of the society still enjoy undue privileges? I would also like to examine how this social-economic trend evolving with time.\n",
    "\n",
    "This study would help to unearth the existing biases and inequality within the developer community. These biases and differences can be seen as a proxy of the developing world in general. Therefore, I believe that this study is deeply rooted as human-centered. Since our cohort is also a part of this community, I am hopeful that the analysis would help us realize our own prejudices and make us more aware of them as we go into the workforce. The study would help us to amend our behavior, make the required changes in our process and set new targets to improve the diversity, respect and inclusion within the developer community. \n"
   ]
  },
  {
   "cell_type": "markdown",
   "metadata": {},
   "source": [
    "### Data selected for analysis"
   ]
  },
  {
   "cell_type": "markdown",
   "metadata": {},
   "source": [
    "The dataset that I plan to use for my analysis has been generated through the Stack Overflow Annual Developer Survey that was conducted by Stack Overflow from February 5 to February 28 in 2020. The data contains response of 65,000 professional and aspiring software developers, representing 186 countries around the world. The dataset contains information about the demographics of the respondents such as gender, nationality, ethnicity, years of experience, education, compensation, etc.  The survey was anonymous and does not contain any personally identifiable information.\n",
    "\n",
    "I plan to use this dataset as this provides very valuable data points that can directly answers the hypothesis that I plan to evaluate. Stack Overflow is used across the globe by all developers, therefore, I believe the dataset comes closest to the actual representation of the developers around the world. \n",
    "\n",
    "The dataset and related information can be accessed from this link: https://insights.stackoverflow.com/survey/\n",
    " \n",
    "Stack Overflow has allowed anyone to share, adapt, and create derivative works from the public 2020 Stack Overflow Developer Survey results as long as they attribute Stack Overflow. The dataset has been licensed under the Open Data Commons Open Database License (ODbL)\n",
    "\n",
    "Since the survey was done in February 2020, it is safe to assume that the dataset is free from the biases due to \n",
    "Covid-19  pandemic.  However, since the dataset is generated through a voluntary survey, there is a risk of selection bias. It is likely that a particular section of society is more likely or less likely to participate in a survey, and hence the dataset may not provide proportional representation for that particular section of society.\n"
   ]
  },
  {
   "cell_type": "markdown",
   "metadata": {},
   "source": [
    "### Unknowns and dependencies"
   ]
  },
  {
   "cell_type": "markdown",
   "metadata": {},
   "source": [
    "I would aim to balance all my course and plan in advance such that there are not surprises at the last moment and my workload is spread out. Therefore I am confident that I should be able to finish this project in the allotted time. However, there are some unknowns that may impact the delivery of the project. \n",
    "* Regulations around lockdown for covid-19 may change suddenly which may impact the time that we are able to devote towards the project. \n",
    "* Any special incidents such as laptop stopped working, or the course website getting down etc. can also have some minor delays in the project schedule.\n",
    "* Newly scheduled recrruitment events and career fairs may clash with the project deadline. Hence, spreading out the project work upfront would be very important."
   ]
  },
  {
   "cell_type": "markdown",
   "metadata": {},
   "source": [
    "### Sources"
   ]
  },
  {
   "cell_type": "markdown",
   "metadata": {},
   "source": [
    "* Stack Overflow. (n.d.). Retrieved November 03, 2020, from https://insights.stackoverflow.com/survey/\n",
    "* Stack Overflow Developer Survey 2020. (n.d.). Retrieved November 03, 2020, from https://insights.stackoverflow.com/survey/2020"
   ]
  }
 ],
 "metadata": {
  "kernelspec": {
   "display_name": "Python 3",
   "language": "python",
   "name": "python3"
  },
  "language_info": {
   "codemirror_mode": {
    "name": "ipython",
    "version": 3
   },
   "file_extension": ".py",
   "mimetype": "text/x-python",
   "name": "python",
   "nbconvert_exporter": "python",
   "pygments_lexer": "ipython3",
   "version": "3.7.3"
  }
 },
 "nbformat": 4,
 "nbformat_minor": 2
}
